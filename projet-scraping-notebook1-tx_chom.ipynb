{
 "cells": [
  {
   "cell_type": "code",
   "execution_count": 9,
   "id": "b50a58fe",
   "metadata": {},
   "outputs": [
    {
     "name": "stderr",
     "output_type": "stream",
     "text": [
      "'apt' n’est pas reconnu en tant que commande interne\n",
      "ou externe, un programme exécutable ou un fichier de commandes.\n",
      "'cp' n’est pas reconnu en tant que commande interne\n",
      "ou externe, un programme exécutable ou un fichier de commandes.\n"
     ]
    },
    {
     "name": "stdout",
     "output_type": "stream",
     "text": [
      "Requirement already satisfied: selenium in c:\\users\\kwalc\\anaconda3\\lib\\site-packages (4.1.5)\n",
      "Requirement already satisfied: trio-websocket~=0.9 in c:\\users\\kwalc\\anaconda3\\lib\\site-packages (from selenium) (0.9.2)\n",
      "Requirement already satisfied: trio~=0.17 in c:\\users\\kwalc\\anaconda3\\lib\\site-packages (from selenium) (0.20.0)\n",
      "Requirement already satisfied: urllib3[secure,socks]~=1.26 in c:\\users\\kwalc\\anaconda3\\lib\\site-packages (from selenium) (1.26.7)\n",
      "Requirement already satisfied: attrs>=19.2.0 in c:\\users\\kwalc\\anaconda3\\lib\\site-packages (from trio~=0.17->selenium) (21.2.0)\n",
      "Requirement already satisfied: sortedcontainers in c:\\users\\kwalc\\anaconda3\\lib\\site-packages (from trio~=0.17->selenium) (2.4.0)\n",
      "Requirement already satisfied: async-generator>=1.9 in c:\\users\\kwalc\\anaconda3\\lib\\site-packages (from trio~=0.17->selenium) (1.10)\n",
      "Requirement already satisfied: cffi>=1.14 in c:\\users\\kwalc\\anaconda3\\lib\\site-packages (from trio~=0.17->selenium) (1.14.6)\n",
      "Requirement already satisfied: idna in c:\\users\\kwalc\\anaconda3\\lib\\site-packages (from trio~=0.17->selenium) (3.2)\n",
      "Requirement already satisfied: outcome in c:\\users\\kwalc\\anaconda3\\lib\\site-packages (from trio~=0.17->selenium) (1.1.0)\n",
      "Requirement already satisfied: sniffio in c:\\users\\kwalc\\anaconda3\\lib\\site-packages (from trio~=0.17->selenium) (1.2.0)\n",
      "Requirement already satisfied: pycparser in c:\\users\\kwalc\\anaconda3\\lib\\site-packages (from cffi>=1.14->trio~=0.17->selenium) (2.20)\n",
      "Requirement already satisfied: wsproto>=0.14 in c:\\users\\kwalc\\anaconda3\\lib\\site-packages (from trio-websocket~=0.9->selenium) (1.1.0)\n",
      "Requirement already satisfied: pyOpenSSL>=0.14 in c:\\users\\kwalc\\anaconda3\\lib\\site-packages (from urllib3[secure,socks]~=1.26->selenium) (21.0.0)\n",
      "Requirement already satisfied: cryptography>=1.3.4 in c:\\users\\kwalc\\anaconda3\\lib\\site-packages (from urllib3[secure,socks]~=1.26->selenium) (3.4.8)\n",
      "Requirement already satisfied: certifi in c:\\users\\kwalc\\anaconda3\\lib\\site-packages (from urllib3[secure,socks]~=1.26->selenium) (2021.10.8)\n",
      "Requirement already satisfied: PySocks!=1.5.7,<2.0,>=1.5.6 in c:\\users\\kwalc\\anaconda3\\lib\\site-packages (from urllib3[secure,socks]~=1.26->selenium) (1.7.1)\n",
      "Requirement already satisfied: six>=1.5.2 in c:\\users\\kwalc\\anaconda3\\lib\\site-packages (from pyOpenSSL>=0.14->urllib3[secure,socks]~=1.26->selenium) (1.16.0)\n",
      "Requirement already satisfied: h11<1,>=0.9.0 in c:\\users\\kwalc\\anaconda3\\lib\\site-packages (from wsproto>=0.14->trio-websocket~=0.9->selenium) (0.13.0)\n"
     ]
    }
   ],
   "source": [
    "# installer selenium et le chromedriver\n",
    "!apt install chromium-chromedriver\n",
    "!cp /usr/lib/chromium-browser/chromedriver/usr/bin\n",
    "!pip install selenium"
   ]
  },
  {
   "cell_type": "code",
   "execution_count": 10,
   "id": "2c9d1298",
   "metadata": {},
   "outputs": [
    {
     "name": "stderr",
     "output_type": "stream",
     "text": [
      "C:\\Users\\kwalc\\AppData\\Local\\Temp/ipykernel_2800/671558394.py:8: DeprecationWarning: executable_path has been deprecated, please pass in a Service object\n",
      "  driver=webdriver.Chrome(executable_path='C:\\\\Users\\\\kwalc\\\\Downloads\\\\chromedriver_win32\\\\chromedriver.exe')\n"
     ]
    },
    {
     "name": "stdout",
     "output_type": "stream",
     "text": [
      "<class 'selenium.webdriver.chrome.webdriver.WebDriver'>\n"
     ]
    }
   ],
   "source": [
    "import requests\n",
    "import numpy as np\n",
    "import pandas as pd\n",
    "from bs4 import BeautifulSoup\n",
    "from selenium import webdriver\n",
    "import time\n",
    "\n",
    "driver=webdriver.Chrome(executable_path='C:\\\\Users\\\\kwalc\\\\Downloads\\\\chromedriver_win32\\\\chromedriver.exe')\n",
    "print(type(driver))"
   ]
  },
  {
   "cell_type": "code",
   "execution_count": 12,
   "id": "65fad613",
   "metadata": {},
   "outputs": [
    {
     "name": "stdout",
     "output_type": "stream",
     "text": [
      "France  7,4%\n",
      "Allemagne  2,9%\n",
      "Euro zone  7,6%\n",
      "Royaume-Uni  3,8%\n",
      "Espagne  13,5%\n",
      "États-Unis  3,6%\n",
      "Japon  2,6%\n",
      "Italie  8,3%\n",
      "Portugal  5,7%\n",
      "Grèce  12,9%\n",
      "Irlande  4,8%\n",
      "Argentine  8,5%\n",
      "Autriche  4,2%\n",
      "Australie  4,0%\n",
      "Belgique  5,6%\n",
      "Bulgarie  4,3%\n",
      "Brésil  13,2%\n",
      "Canada  5,2%\n",
      "Suisse  4,5%\n",
      "Chili  7,8%\n",
      "Colombie  11,0%\n",
      "Chypre  5,9%\n",
      "Tchéquie  2,3%\n",
      "Danemark  4,5%\n",
      "Estonie  5,4%\n",
      "Finlande  6,4%\n",
      "Croatie  6,5%\n",
      "Hongrie  3,2%\n",
      "Islande  4,3%\n",
      "Lituanie  6,9%\n",
      "Luxembourg  4,5%\n",
      "Lettonie  7,0%\n",
      "Malte  3,0%\n",
      "Mexique  3,0%\n",
      "Pays-Bas  3,3%\n",
      "Norvège  3,1%\n",
      "Pologne  3,0%\n",
      "Roumanie  5,7%\n",
      "Russie  4,3%\n",
      "Suède  7,6%\n",
      "Slovénie  4,0%\n",
      "Slovaquie  6,5%\n",
      "Turquie  11,2%\n",
      "Uruguay  9,4%\n",
      "Venezuela  6,4%\n",
      "Afrique du Sud  35,3%\n"
     ]
    }
   ],
   "source": [
    "\n",
    "url = 'https://fr.countryeconomy.com/marche-du-travail/chomage'\n",
    "driver.get(url)\n",
    "    \n",
    "r = requests.get(url)\n",
    "soup = BeautifulSoup(r.text, 'html.parser')\n",
    "\n",
    "table_pays_tx_chom = soup.find('table', class_ = 'table tabledat table-striped table-condensed table-hover')\n",
    "\n",
    "for pays in table_pays_tx_chom.find_all('tbody'):\n",
    "    lignes = pays.find_all('tr')\n",
    "    for ligne in lignes: \n",
    "        noms_pays = ligne.find('td').text.strip('[+]')\n",
    "        taux_chom = ligne.find('td', class_ = 'numero').text.strip()\n",
    "        print(noms_pays, taux_chom)\n",
    "    \n",
    "    "
   ]
  },
  {
   "cell_type": "code",
   "execution_count": null,
   "id": "7c527974",
   "metadata": {},
   "outputs": [],
   "source": []
  }
 ],
 "metadata": {
  "kernelspec": {
   "display_name": "Python 3 (ipykernel)",
   "language": "python",
   "name": "python3"
  },
  "language_info": {
   "codemirror_mode": {
    "name": "ipython",
    "version": 3
   },
   "file_extension": ".py",
   "mimetype": "text/x-python",
   "name": "python",
   "nbconvert_exporter": "python",
   "pygments_lexer": "ipython3",
   "version": "3.9.7"
  }
 },
 "nbformat": 4,
 "nbformat_minor": 5
}
